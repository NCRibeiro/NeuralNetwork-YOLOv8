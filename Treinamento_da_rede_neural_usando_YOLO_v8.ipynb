{
  "nbformat": 4,
  "nbformat_minor": 0,
  "metadata": {
    "colab": {
      "provenance": [],
      "gpuType": "T4",
      "authorship_tag": "ABX9TyOVNoFO5lXFefsrE8z9+lbA",
      "include_colab_link": true
    },
    "kernelspec": {
      "name": "python3",
      "display_name": "Python 3"
    },
    "language_info": {
      "name": "python"
    },
    "accelerator": "GPU"
  },
  "cells": [
    {
      "cell_type": "markdown",
      "metadata": {
        "id": "view-in-github",
        "colab_type": "text"
      },
      "source": [
        "<a href=\"https://colab.research.google.com/github/NCRibeiro/Aplicativo-LiFE/blob/main/Treinamento_da_rede_neural_usando_YOLO_v8.ipynb\" target=\"_parent\"><img src=\"https://colab.research.google.com/assets/colab-badge.svg\" alt=\"Open In Colab\"/></a>"
      ]
    },
    {
      "cell_type": "code",
      "execution_count": 1,
      "metadata": {
        "colab": {
          "base_uri": "https://localhost:8080/"
        },
        "id": "iYM6NqQFdJlI",
        "outputId": "c78d263e-3763-49f6-a767-4c370049b127"
      },
      "outputs": [
        {
          "output_type": "stream",
          "name": "stdout",
          "text": [
            "Requirement already satisfied: pip in /usr/local/lib/python3.10/dist-packages (24.1.2)\n",
            "Collecting pip\n",
            "  Downloading pip-24.3.1-py3-none-any.whl.metadata (3.7 kB)\n",
            "Downloading pip-24.3.1-py3-none-any.whl (1.8 MB)\n",
            "\u001b[2K   \u001b[90m━━━━━━━━━━━━━━━━━━━━━━━━━━━━━━━━━━━━━━━━\u001b[0m \u001b[32m1.8/1.8 MB\u001b[0m \u001b[31m30.0 MB/s\u001b[0m eta \u001b[36m0:00:00\u001b[0m\n",
            "\u001b[?25hInstalling collected packages: pip\n",
            "  Attempting uninstall: pip\n",
            "    Found existing installation: pip 24.1.2\n",
            "    Uninstalling pip-24.1.2:\n",
            "      Successfully uninstalled pip-24.1.2\n",
            "Successfully installed pip-24.3.1\n"
          ]
        }
      ],
      "source": [
        "!pip install --upgrade pip"
      ]
    },
    {
      "cell_type": "code",
      "source": [
        "import os\n",
        "import shutil\n",
        "\n",
        "repo_dir = \"yolov8_novo\" # Nome do diretório (você pode mudar)\n",
        "\n",
        "if os.path.exists(repo_dir):\n",
        "    print(f\"Removendo diretório existente: {repo_dir}\")\n",
        "    shutil.rmtree(repo_dir)"
      ],
      "metadata": {
        "id": "sYWMnNMOgFU5"
      },
      "execution_count": 2,
      "outputs": []
    },
    {
      "cell_type": "code",
      "source": [
        "repo_url = \"https://github.com/ultralytics/ultralytics\"\n",
        "print(f\"Clonando repositório: {repo_url} para {repo_dir}\")\n",
        "!git clone {repo_url} {repo_dir}"
      ],
      "metadata": {
        "colab": {
          "base_uri": "https://localhost:8080/"
        },
        "id": "1SebHLlfgsm7",
        "outputId": "e0209374-0989-4e47-b1e2-ead6b3fb24c3"
      },
      "execution_count": 3,
      "outputs": [
        {
          "output_type": "stream",
          "name": "stdout",
          "text": [
            "Clonando repositório: https://github.com/ultralytics/ultralytics para yolov8_novo\n",
            "Cloning into 'yolov8_novo'...\n",
            "remote: Enumerating objects: 48084, done.\u001b[K\n",
            "remote: Counting objects: 100% (6/6), done.\u001b[K\n",
            "remote: Compressing objects: 100% (6/6), done.\u001b[K\n",
            "remote: Total 48084 (delta 0), reused 0 (delta 0), pack-reused 48078 (from 1)\u001b[K\n",
            "Receiving objects: 100% (48084/48084), 40.21 MiB | 19.75 MiB/s, done.\n",
            "Resolving deltas: 100% (35448/35448), done.\n"
          ]
        }
      ]
    },
    {
      "cell_type": "code",
      "source": [
        "%cd {repo_dir}"
      ],
      "metadata": {
        "colab": {
          "base_uri": "https://localhost:8080/"
        },
        "id": "Me6TN4u7gw6F",
        "outputId": "cfcd05e6-4bca-482a-8f9f-653cab7ec913"
      },
      "execution_count": 4,
      "outputs": [
        {
          "output_type": "stream",
          "name": "stdout",
          "text": [
            "/content/yolov8_novo\n"
          ]
        }
      ]
    },
    {
      "cell_type": "code",
      "source": [
        "!pip cache purge\n"
      ],
      "metadata": {
        "colab": {
          "base_uri": "https://localhost:8080/"
        },
        "id": "rZnZ1X2phDic",
        "outputId": "7d3097e5-ac5f-4c50-c1f1-7ce28aa645dd"
      },
      "execution_count": 5,
      "outputs": [
        {
          "output_type": "stream",
          "name": "stdout",
          "text": [
            "Files removed: 6\n"
          ]
        }
      ]
    },
    {
      "cell_type": "code",
      "source": [
        "!pip install torch torchvision torchaudio\n",
        "!pip install opencv-python\n",
        "!pip install ultralytics\n"
      ],
      "metadata": {
        "colab": {
          "base_uri": "https://localhost:8080/"
        },
        "id": "8Hm6hM6nhKj_",
        "outputId": "6f38f9cc-425d-418e-cb15-0e9e89003b32"
      },
      "execution_count": 6,
      "outputs": [
        {
          "output_type": "stream",
          "name": "stdout",
          "text": [
            "Requirement already satisfied: torch in /usr/local/lib/python3.10/dist-packages (2.5.1+cu121)\n",
            "Requirement already satisfied: torchvision in /usr/local/lib/python3.10/dist-packages (0.20.1+cu121)\n",
            "Requirement already satisfied: torchaudio in /usr/local/lib/python3.10/dist-packages (2.5.1+cu121)\n",
            "Requirement already satisfied: filelock in /usr/local/lib/python3.10/dist-packages (from torch) (3.16.1)\n",
            "Requirement already satisfied: typing-extensions>=4.8.0 in /usr/local/lib/python3.10/dist-packages (from torch) (4.12.2)\n",
            "Requirement already satisfied: networkx in /usr/local/lib/python3.10/dist-packages (from torch) (3.4.2)\n",
            "Requirement already satisfied: jinja2 in /usr/local/lib/python3.10/dist-packages (from torch) (3.1.4)\n",
            "Requirement already satisfied: fsspec in /usr/local/lib/python3.10/dist-packages (from torch) (2024.10.0)\n",
            "Requirement already satisfied: sympy==1.13.1 in /usr/local/lib/python3.10/dist-packages (from torch) (1.13.1)\n",
            "Requirement already satisfied: mpmath<1.4,>=1.1.0 in /usr/local/lib/python3.10/dist-packages (from sympy==1.13.1->torch) (1.3.0)\n",
            "Requirement already satisfied: numpy in /usr/local/lib/python3.10/dist-packages (from torchvision) (1.26.4)\n",
            "Requirement already satisfied: pillow!=8.3.*,>=5.3.0 in /usr/local/lib/python3.10/dist-packages (from torchvision) (11.0.0)\n",
            "Requirement already satisfied: MarkupSafe>=2.0 in /usr/local/lib/python3.10/dist-packages (from jinja2->torch) (3.0.2)\n",
            "Requirement already satisfied: opencv-python in /usr/local/lib/python3.10/dist-packages (4.10.0.84)\n",
            "Requirement already satisfied: numpy>=1.21.2 in /usr/local/lib/python3.10/dist-packages (from opencv-python) (1.26.4)\n",
            "Collecting ultralytics\n",
            "  Downloading ultralytics-8.3.58-py3-none-any.whl.metadata (35 kB)\n",
            "Requirement already satisfied: numpy>=1.23.0 in /usr/local/lib/python3.10/dist-packages (from ultralytics) (1.26.4)\n",
            "Requirement already satisfied: matplotlib>=3.3.0 in /usr/local/lib/python3.10/dist-packages (from ultralytics) (3.8.0)\n",
            "Requirement already satisfied: opencv-python>=4.6.0 in /usr/local/lib/python3.10/dist-packages (from ultralytics) (4.10.0.84)\n",
            "Requirement already satisfied: pillow>=7.1.2 in /usr/local/lib/python3.10/dist-packages (from ultralytics) (11.0.0)\n",
            "Requirement already satisfied: pyyaml>=5.3.1 in /usr/local/lib/python3.10/dist-packages (from ultralytics) (6.0.2)\n",
            "Requirement already satisfied: requests>=2.23.0 in /usr/local/lib/python3.10/dist-packages (from ultralytics) (2.32.3)\n",
            "Requirement already satisfied: scipy>=1.4.1 in /usr/local/lib/python3.10/dist-packages (from ultralytics) (1.13.1)\n",
            "Requirement already satisfied: torch>=1.8.0 in /usr/local/lib/python3.10/dist-packages (from ultralytics) (2.5.1+cu121)\n",
            "Requirement already satisfied: torchvision>=0.9.0 in /usr/local/lib/python3.10/dist-packages (from ultralytics) (0.20.1+cu121)\n",
            "Requirement already satisfied: tqdm>=4.64.0 in /usr/local/lib/python3.10/dist-packages (from ultralytics) (4.67.1)\n",
            "Requirement already satisfied: psutil in /usr/local/lib/python3.10/dist-packages (from ultralytics) (5.9.5)\n",
            "Requirement already satisfied: py-cpuinfo in /usr/local/lib/python3.10/dist-packages (from ultralytics) (9.0.0)\n",
            "Requirement already satisfied: pandas>=1.1.4 in /usr/local/lib/python3.10/dist-packages (from ultralytics) (2.2.2)\n",
            "Requirement already satisfied: seaborn>=0.11.0 in /usr/local/lib/python3.10/dist-packages (from ultralytics) (0.13.2)\n",
            "Collecting ultralytics-thop>=2.0.0 (from ultralytics)\n",
            "  Downloading ultralytics_thop-2.0.13-py3-none-any.whl.metadata (9.4 kB)\n",
            "Requirement already satisfied: contourpy>=1.0.1 in /usr/local/lib/python3.10/dist-packages (from matplotlib>=3.3.0->ultralytics) (1.3.1)\n",
            "Requirement already satisfied: cycler>=0.10 in /usr/local/lib/python3.10/dist-packages (from matplotlib>=3.3.0->ultralytics) (0.12.1)\n",
            "Requirement already satisfied: fonttools>=4.22.0 in /usr/local/lib/python3.10/dist-packages (from matplotlib>=3.3.0->ultralytics) (4.55.3)\n",
            "Requirement already satisfied: kiwisolver>=1.0.1 in /usr/local/lib/python3.10/dist-packages (from matplotlib>=3.3.0->ultralytics) (1.4.7)\n",
            "Requirement already satisfied: packaging>=20.0 in /usr/local/lib/python3.10/dist-packages (from matplotlib>=3.3.0->ultralytics) (24.2)\n",
            "Requirement already satisfied: pyparsing>=2.3.1 in /usr/local/lib/python3.10/dist-packages (from matplotlib>=3.3.0->ultralytics) (3.2.0)\n",
            "Requirement already satisfied: python-dateutil>=2.7 in /usr/local/lib/python3.10/dist-packages (from matplotlib>=3.3.0->ultralytics) (2.8.2)\n",
            "Requirement already satisfied: pytz>=2020.1 in /usr/local/lib/python3.10/dist-packages (from pandas>=1.1.4->ultralytics) (2024.2)\n",
            "Requirement already satisfied: tzdata>=2022.7 in /usr/local/lib/python3.10/dist-packages (from pandas>=1.1.4->ultralytics) (2024.2)\n",
            "Requirement already satisfied: charset-normalizer<4,>=2 in /usr/local/lib/python3.10/dist-packages (from requests>=2.23.0->ultralytics) (3.4.0)\n",
            "Requirement already satisfied: idna<4,>=2.5 in /usr/local/lib/python3.10/dist-packages (from requests>=2.23.0->ultralytics) (3.10)\n",
            "Requirement already satisfied: urllib3<3,>=1.21.1 in /usr/local/lib/python3.10/dist-packages (from requests>=2.23.0->ultralytics) (2.2.3)\n",
            "Requirement already satisfied: certifi>=2017.4.17 in /usr/local/lib/python3.10/dist-packages (from requests>=2.23.0->ultralytics) (2024.12.14)\n",
            "Requirement already satisfied: filelock in /usr/local/lib/python3.10/dist-packages (from torch>=1.8.0->ultralytics) (3.16.1)\n",
            "Requirement already satisfied: typing-extensions>=4.8.0 in /usr/local/lib/python3.10/dist-packages (from torch>=1.8.0->ultralytics) (4.12.2)\n",
            "Requirement already satisfied: networkx in /usr/local/lib/python3.10/dist-packages (from torch>=1.8.0->ultralytics) (3.4.2)\n",
            "Requirement already satisfied: jinja2 in /usr/local/lib/python3.10/dist-packages (from torch>=1.8.0->ultralytics) (3.1.4)\n",
            "Requirement already satisfied: fsspec in /usr/local/lib/python3.10/dist-packages (from torch>=1.8.0->ultralytics) (2024.10.0)\n",
            "Requirement already satisfied: sympy==1.13.1 in /usr/local/lib/python3.10/dist-packages (from torch>=1.8.0->ultralytics) (1.13.1)\n",
            "Requirement already satisfied: mpmath<1.4,>=1.1.0 in /usr/local/lib/python3.10/dist-packages (from sympy==1.13.1->torch>=1.8.0->ultralytics) (1.3.0)\n",
            "Requirement already satisfied: six>=1.5 in /usr/local/lib/python3.10/dist-packages (from python-dateutil>=2.7->matplotlib>=3.3.0->ultralytics) (1.17.0)\n",
            "Requirement already satisfied: MarkupSafe>=2.0 in /usr/local/lib/python3.10/dist-packages (from jinja2->torch>=1.8.0->ultralytics) (3.0.2)\n",
            "Downloading ultralytics-8.3.58-py3-none-any.whl (905 kB)\n",
            "\u001b[2K   \u001b[90m━━━━━━━━━━━━━━━━━━━━━━━━━━━━━━━━━━━━━━━━\u001b[0m \u001b[32m905.3/905.3 kB\u001b[0m \u001b[31m26.8 MB/s\u001b[0m eta \u001b[36m0:00:00\u001b[0m\n",
            "\u001b[?25hDownloading ultralytics_thop-2.0.13-py3-none-any.whl (26 kB)\n",
            "Installing collected packages: ultralytics-thop, ultralytics\n",
            "Successfully installed ultralytics-8.3.58 ultralytics-thop-2.0.13\n"
          ]
        }
      ]
    },
    {
      "cell_type": "code",
      "source": [
        "!python --version"
      ],
      "metadata": {
        "colab": {
          "base_uri": "https://localhost:8080/"
        },
        "id": "vkl-aDZehUwH",
        "outputId": "5928726c-6ff2-4989-de93-7e92084c453e"
      },
      "execution_count": 7,
      "outputs": [
        {
          "output_type": "stream",
          "name": "stdout",
          "text": [
            "Python 3.10.12\n"
          ]
        }
      ]
    },
    {
      "cell_type": "code",
      "source": [
        "!apt update && apt-get install -y libgl1-mesa-glx"
      ],
      "metadata": {
        "colab": {
          "base_uri": "https://localhost:8080/"
        },
        "id": "Z9yz9YXnha3a",
        "outputId": "68206f71-d035-4e0e-c8a2-527dfd355bef"
      },
      "execution_count": 8,
      "outputs": [
        {
          "output_type": "stream",
          "name": "stdout",
          "text": [
            "\u001b[33m\r0% [Working]\u001b[0m\r            \rGet:1 https://cloud.r-project.org/bin/linux/ubuntu jammy-cran40/ InRelease [3,626 B]\n",
            "Get:2 https://developer.download.nvidia.com/compute/cuda/repos/ubuntu2204/x86_64  InRelease [1,581 B]\n",
            "Get:3 http://security.ubuntu.com/ubuntu jammy-security InRelease [129 kB]\n",
            "Get:4 https://r2u.stat.illinois.edu/ubuntu jammy InRelease [6,555 B]\n",
            "Hit:5 http://archive.ubuntu.com/ubuntu jammy InRelease\n",
            "Get:6 http://archive.ubuntu.com/ubuntu jammy-updates InRelease [128 kB]\n",
            "Get:7 https://cloud.r-project.org/bin/linux/ubuntu jammy-cran40/ Packages [61.9 kB]\n",
            "Hit:8 https://ppa.launchpadcontent.net/deadsnakes/ppa/ubuntu jammy InRelease\n",
            "Hit:9 https://ppa.launchpadcontent.net/graphics-drivers/ppa/ubuntu jammy InRelease\n",
            "Get:10 https://developer.download.nvidia.com/compute/cuda/repos/ubuntu2204/x86_64  Packages [1,199 kB]\n",
            "Hit:11 https://ppa.launchpadcontent.net/ubuntugis/ppa/ubuntu jammy InRelease\n",
            "Get:12 http://archive.ubuntu.com/ubuntu jammy-backports InRelease [127 kB]\n",
            "Get:13 https://r2u.stat.illinois.edu/ubuntu jammy/main amd64 Packages [2,631 kB]\n",
            "Get:14 http://security.ubuntu.com/ubuntu jammy-security/universe amd64 Packages [1,226 kB]\n",
            "Get:15 http://security.ubuntu.com/ubuntu jammy-security/main amd64 Packages [2,554 kB]\n",
            "Get:16 http://security.ubuntu.com/ubuntu jammy-security/restricted amd64 Packages [3,513 kB]\n",
            "Get:17 http://archive.ubuntu.com/ubuntu jammy-updates/main amd64 Packages [2,854 kB]\n",
            "Get:18 http://archive.ubuntu.com/ubuntu jammy-updates/universe amd64 Packages [1,517 kB]\n",
            "Get:19 http://archive.ubuntu.com/ubuntu jammy-updates/restricted amd64 Packages [3,652 kB]\n",
            "Fetched 19.6 MB in 5s (4,138 kB/s)\n",
            "Reading package lists... Done\n",
            "Building dependency tree... Done\n",
            "Reading state information... Done\n",
            "52 packages can be upgraded. Run 'apt list --upgradable' to see them.\n",
            "\u001b[1;33mW: \u001b[0mSkipping acquire of configured file 'main/source/Sources' as repository 'https://r2u.stat.illinois.edu/ubuntu jammy InRelease' does not seem to provide it (sources.list entry misspelt?)\u001b[0m\n",
            "Reading package lists... Done\n",
            "Building dependency tree... Done\n",
            "Reading state information... Done\n",
            "The following NEW packages will be installed:\n",
            "  libgl1-mesa-glx\n",
            "0 upgraded, 1 newly installed, 0 to remove and 52 not upgraded.\n",
            "Need to get 5,584 B of archives.\n",
            "After this operation, 74.8 kB of additional disk space will be used.\n",
            "Get:1 http://archive.ubuntu.com/ubuntu jammy-updates/universe amd64 libgl1-mesa-glx amd64 23.0.4-0ubuntu1~22.04.1 [5,584 B]\n",
            "Fetched 5,584 B in 0s (19.9 kB/s)\n",
            "Selecting previously unselected package libgl1-mesa-glx:amd64.\n",
            "(Reading database ... 123632 files and directories currently installed.)\n",
            "Preparing to unpack .../libgl1-mesa-glx_23.0.4-0ubuntu1~22.04.1_amd64.deb ...\n",
            "Unpacking libgl1-mesa-glx:amd64 (23.0.4-0ubuntu1~22.04.1) ...\n",
            "Setting up libgl1-mesa-glx:amd64 (23.0.4-0ubuntu1~22.04.1) ...\n"
          ]
        }
      ]
    },
    {
      "cell_type": "code",
      "source": [
        "import os\n",
        "import shutil\n",
        "import subprocess  # Importa o subprocess para executar comandos do sistema\n",
        "\n",
        "repo_url = \"https://github.com/ultralytics/ultralytics\"\n",
        "repo_dir = \"yolov8_novo\"\n",
        "\n",
        "print(\"Preparando o ambiente...\")\n",
        "\n",
        "if os.path.exists(repo_dir):\n",
        "    print(f\"Limpando diretório anterior: {repo_dir}\")\n",
        "    shutil.rmtree(repo_dir)\n",
        "\n",
        "print(f\"Clonando o repositório YOLOv8 para: {repo_dir}\")\n",
        "!git clone {repo_url} {repo_dir}\n",
        "\n",
        "print(f\"Entrando no diretório: {repo_dir}\")\n",
        "%cd {repo_dir}\n",
        "\n",
        "print(\"Atualizando o pip...\")\n",
        "!pip install --upgrade pip\n",
        "\n",
        "print(\"Limpando o cache do pip...\")\n",
        "!pip cache purge\n",
        "\n",
        "print(\"Instalando as dependências...\")\n",
        "try:\n",
        "    # Tenta instalar as dependências do requirements.txt\n",
        "    result = subprocess.run(['pip', 'install', '-qr', 'requirements.txt'], capture_output=True, text=True, check=True)\n",
        "    print(\"Dependências instaladas com sucesso!\")\n",
        "\n",
        "except subprocess.CalledProcessError as e:\n",
        "    print(f\"Erro DETALHADO durante a instalação das dependências:\")\n",
        "    print(f\"Código de retorno: {e.returncode}\")\n",
        "    print(f\"Saída padrão (stdout):\\n{e.stdout}\")\n",
        "    print(f\"Saída de erro (stderr):\\n{e.stderr}\")\n",
        "\n",
        "    print(\"\\nTentando instalar dependências chave individualmente...\")\n",
        "    try:\n",
        "        !pip install torch torchvision torchaudio opencv-python ultralytics\n",
        "        print(\"Dependências chave instaladas. Tente executar o treinamento novamente.\")\n",
        "    except Exception as e2:\n",
        "        print(f\"Erro ao instalar dependências chave:\\n{e2}\")\n",
        "\n",
        "except Exception as e:\n",
        "    print(f\"Erro GENÉRICO durante a instalação das dependências:\\n{e}\")\n",
        "\n",
        "print(f\"Diretório atual: {os.getcwd()}\")\n",
        "print(\"Ambiente configurado (verifique os erros acima)!\")\n",
        "!python --version # Imprime a versão do Python"
      ],
      "metadata": {
        "colab": {
          "base_uri": "https://localhost:8080/"
        },
        "id": "tLJjFHLAhlvC",
        "outputId": "5e9120ae-eb98-43b1-9e78-cbae22cec34c"
      },
      "execution_count": 9,
      "outputs": [
        {
          "output_type": "stream",
          "name": "stdout",
          "text": [
            "Preparando o ambiente...\n",
            "Clonando o repositório YOLOv8 para: yolov8_novo\n",
            "Cloning into 'yolov8_novo'...\n",
            "remote: Enumerating objects: 48084, done.\u001b[K\n",
            "remote: Counting objects: 100% (6/6), done.\u001b[K\n",
            "remote: Compressing objects: 100% (6/6), done.\u001b[K\n",
            "remote: Total 48084 (delta 0), reused 0 (delta 0), pack-reused 48078 (from 1)\u001b[K\n",
            "Receiving objects: 100% (48084/48084), 40.21 MiB | 24.22 MiB/s, done.\n",
            "Resolving deltas: 100% (35448/35448), done.\n",
            "Entrando no diretório: yolov8_novo\n",
            "/content/yolov8_novo/yolov8_novo\n",
            "Atualizando o pip...\n",
            "Requirement already satisfied: pip in /usr/local/lib/python3.10/dist-packages (24.3.1)\n",
            "Limpando o cache do pip...\n",
            "Files removed: 14\n",
            "Instalando as dependências...\n",
            "Erro DETALHADO durante a instalação das dependências:\n",
            "Código de retorno: 1\n",
            "Saída padrão (stdout):\n",
            "\n",
            "Saída de erro (stderr):\n",
            "ERROR: Could not open requirements file: [Errno 2] No such file or directory: 'requirements.txt'\n",
            "\n",
            "\n",
            "Tentando instalar dependências chave individualmente...\n",
            "Requirement already satisfied: torch in /usr/local/lib/python3.10/dist-packages (2.5.1+cu121)\n",
            "Requirement already satisfied: torchvision in /usr/local/lib/python3.10/dist-packages (0.20.1+cu121)\n",
            "Requirement already satisfied: torchaudio in /usr/local/lib/python3.10/dist-packages (2.5.1+cu121)\n",
            "Requirement already satisfied: opencv-python in /usr/local/lib/python3.10/dist-packages (4.10.0.84)\n",
            "Requirement already satisfied: ultralytics in /usr/local/lib/python3.10/dist-packages (8.3.58)\n",
            "Requirement already satisfied: filelock in /usr/local/lib/python3.10/dist-packages (from torch) (3.16.1)\n",
            "Requirement already satisfied: typing-extensions>=4.8.0 in /usr/local/lib/python3.10/dist-packages (from torch) (4.12.2)\n",
            "Requirement already satisfied: networkx in /usr/local/lib/python3.10/dist-packages (from torch) (3.4.2)\n",
            "Requirement already satisfied: jinja2 in /usr/local/lib/python3.10/dist-packages (from torch) (3.1.4)\n",
            "Requirement already satisfied: fsspec in /usr/local/lib/python3.10/dist-packages (from torch) (2024.10.0)\n",
            "Requirement already satisfied: sympy==1.13.1 in /usr/local/lib/python3.10/dist-packages (from torch) (1.13.1)\n",
            "Requirement already satisfied: mpmath<1.4,>=1.1.0 in /usr/local/lib/python3.10/dist-packages (from sympy==1.13.1->torch) (1.3.0)\n",
            "Requirement already satisfied: numpy in /usr/local/lib/python3.10/dist-packages (from torchvision) (1.26.4)\n",
            "Requirement already satisfied: pillow!=8.3.*,>=5.3.0 in /usr/local/lib/python3.10/dist-packages (from torchvision) (11.0.0)\n",
            "Requirement already satisfied: matplotlib>=3.3.0 in /usr/local/lib/python3.10/dist-packages (from ultralytics) (3.8.0)\n",
            "Requirement already satisfied: pyyaml>=5.3.1 in /usr/local/lib/python3.10/dist-packages (from ultralytics) (6.0.2)\n",
            "Requirement already satisfied: requests>=2.23.0 in /usr/local/lib/python3.10/dist-packages (from ultralytics) (2.32.3)\n",
            "Requirement already satisfied: scipy>=1.4.1 in /usr/local/lib/python3.10/dist-packages (from ultralytics) (1.13.1)\n",
            "Requirement already satisfied: tqdm>=4.64.0 in /usr/local/lib/python3.10/dist-packages (from ultralytics) (4.67.1)\n",
            "Requirement already satisfied: psutil in /usr/local/lib/python3.10/dist-packages (from ultralytics) (5.9.5)\n",
            "Requirement already satisfied: py-cpuinfo in /usr/local/lib/python3.10/dist-packages (from ultralytics) (9.0.0)\n",
            "Requirement already satisfied: pandas>=1.1.4 in /usr/local/lib/python3.10/dist-packages (from ultralytics) (2.2.2)\n",
            "Requirement already satisfied: seaborn>=0.11.0 in /usr/local/lib/python3.10/dist-packages (from ultralytics) (0.13.2)\n",
            "Requirement already satisfied: ultralytics-thop>=2.0.0 in /usr/local/lib/python3.10/dist-packages (from ultralytics) (2.0.13)\n",
            "Requirement already satisfied: contourpy>=1.0.1 in /usr/local/lib/python3.10/dist-packages (from matplotlib>=3.3.0->ultralytics) (1.3.1)\n",
            "Requirement already satisfied: cycler>=0.10 in /usr/local/lib/python3.10/dist-packages (from matplotlib>=3.3.0->ultralytics) (0.12.1)\n",
            "Requirement already satisfied: fonttools>=4.22.0 in /usr/local/lib/python3.10/dist-packages (from matplotlib>=3.3.0->ultralytics) (4.55.3)\n",
            "Requirement already satisfied: kiwisolver>=1.0.1 in /usr/local/lib/python3.10/dist-packages (from matplotlib>=3.3.0->ultralytics) (1.4.7)\n",
            "Requirement already satisfied: packaging>=20.0 in /usr/local/lib/python3.10/dist-packages (from matplotlib>=3.3.0->ultralytics) (24.2)\n",
            "Requirement already satisfied: pyparsing>=2.3.1 in /usr/local/lib/python3.10/dist-packages (from matplotlib>=3.3.0->ultralytics) (3.2.0)\n",
            "Requirement already satisfied: python-dateutil>=2.7 in /usr/local/lib/python3.10/dist-packages (from matplotlib>=3.3.0->ultralytics) (2.8.2)\n",
            "Requirement already satisfied: pytz>=2020.1 in /usr/local/lib/python3.10/dist-packages (from pandas>=1.1.4->ultralytics) (2024.2)\n",
            "Requirement already satisfied: tzdata>=2022.7 in /usr/local/lib/python3.10/dist-packages (from pandas>=1.1.4->ultralytics) (2024.2)\n",
            "Requirement already satisfied: charset-normalizer<4,>=2 in /usr/local/lib/python3.10/dist-packages (from requests>=2.23.0->ultralytics) (3.4.0)\n",
            "Requirement already satisfied: idna<4,>=2.5 in /usr/local/lib/python3.10/dist-packages (from requests>=2.23.0->ultralytics) (3.10)\n",
            "Requirement already satisfied: urllib3<3,>=1.21.1 in /usr/local/lib/python3.10/dist-packages (from requests>=2.23.0->ultralytics) (2.2.3)\n",
            "Requirement already satisfied: certifi>=2017.4.17 in /usr/local/lib/python3.10/dist-packages (from requests>=2.23.0->ultralytics) (2024.12.14)\n",
            "Requirement already satisfied: MarkupSafe>=2.0 in /usr/local/lib/python3.10/dist-packages (from jinja2->torch) (3.0.2)\n",
            "Requirement already satisfied: six>=1.5 in /usr/local/lib/python3.10/dist-packages (from python-dateutil>=2.7->matplotlib>=3.3.0->ultralytics) (1.17.0)\n",
            "Dependências chave instaladas. Tente executar o treinamento novamente.\n",
            "Diretório atual: /content/yolov8_novo/yolov8_novo\n",
            "Ambiente configurado (verifique os erros acima)!\n",
            "Python 3.10.12\n"
          ]
        }
      ]
    },
    {
      "cell_type": "code",
      "source": [
        "from google.colab import drive\n",
        "drive.mount('/content/drive')\n"
      ],
      "metadata": {
        "colab": {
          "base_uri": "https://localhost:8080/"
        },
        "id": "U-0H50pHiB7i",
        "outputId": "8c0e138d-ec2e-42fc-c266-ba23f6221135"
      },
      "execution_count": 10,
      "outputs": [
        {
          "output_type": "stream",
          "name": "stdout",
          "text": [
            "Mounted at /content/drive\n"
          ]
        }
      ]
    },
    {
      "cell_type": "code",
      "source": [
        "!curl -L \"https://github.com/ultralytics/yolov8/raw/main/examples/coco128.yaml\" > coco128.yaml"
      ],
      "metadata": {
        "colab": {
          "base_uri": "https://localhost:8080/"
        },
        "id": "ke9Ee87hia8o",
        "outputId": "a0e2addb-2440-422b-d544-cf915235d94e"
      },
      "execution_count": 11,
      "outputs": [
        {
          "output_type": "stream",
          "name": "stdout",
          "text": [
            "  % Total    % Received % Xferd  Average Speed   Time    Time     Time  Current\n",
            "                                 Dload  Upload   Total   Spent    Left  Speed\n",
            "100  265k    0  265k    0     0   410k      0 --:--:-- --:--:-- --:--:--  409k\n"
          ]
        }
      ]
    },
    {
      "cell_type": "code",
      "source": [
        "import json\n",
        "import os\n",
        "\n",
        "def convert_labelme_to_yolo(labelme_json_dir, output_dir, classes):\n",
        "    \"\"\"Converts LabelMe annotations to YOLO format.\n",
        "\n",
        "    Args:\n",
        "        labelme_json_dir: Path to the directory containing LabelMe JSON files.\n",
        "        output_dir: Path to the output directory for YOLO TXT files.\n",
        "        classes: List of class names.\n",
        "    \"\"\"\n",
        "    # Ensure Google Drive is mounted\n",
        "    from google.colab import drive # Import drive here to make sure it's mounted\n",
        "    drive.mount('/content/drive')\n",
        "\n",
        "    os.makedirs(output_dir, exist_ok=True)  # Create output directory if it doesn't exist\n",
        "\n",
        "    # Print the directory to check if it exists before proceeding\n",
        "    print(f\"Checking for directory: {labelme_json_dir}\")\n",
        "\n",
        "    if not os.path.exists(labelme_json_dir):\n",
        "        raise FileNotFoundError(f\"The directory '{labelme_json_dir}' does not exist. Please check the path.\")\n",
        "\n",
        "    for filename in os.listdir(labelme_json_dir):\n",
        "        if filename.endswith(\".json\"):\n",
        "            labelme_filepath = os.path.join(labelme_json_dir, filename)\n",
        "            yolo_filepath = os.path.join(output_dir, filename[:-5] + \".txt\")\n",
        "\n",
        "            with open(labelme_filepath, \"r\") as f:\n",
        "                labelme_data = json.load(f)\n",
        "\n",
        "            with open(yolo_filepath, \"w\") as f:\n",
        "                for shape in labelme_data[\"shapes\"]:\n",
        "                    if shape[\"shape_type\"] == \"rectangle\":\n",
        "                        label = shape[\"label\"]\n",
        "\n",
        "                        # Get class index\n",
        "                        try:\n",
        "                            class_id = classes.index(label)\n",
        "                        except ValueError:\n",
        "                            print(f\"Warning: Skipping shape with unknown label '{label}' in {filename}\")\n",
        "                            continue  # Skip to the next shape\n",
        "\n",
        "                        # Get bounding box coordinates\n",
        "                        x1, y1 = shape[\"points\"][0]\n",
        "                        x2, y2 = shape[\"points\"][1]\n",
        "\n",
        "                        # Calculate center, width, and height relative to image size\n",
        "                        image_width = labelme_data[\"imageWidth\"]\n",
        "                        image_height = labelme_data[\"imageHeight\"]\n",
        "\n",
        "                        center_x = (x1 + x2) / (2 * image_width)\n",
        "                        center_y = (y1 + y2) / (2 * image_height)\n",
        "                        width = abs(x2 - x1) / image_width\n",
        "                        height = abs(y2 - y1) / image_height\n",
        "\n",
        "                        # Write YOLO format line\n",
        "                        f.write(f\"{class_id} {center_x} {center_y} {width} {height}\\n\")"
      ],
      "metadata": {
        "id": "7-QGWHn3ijyS"
      },
      "execution_count": 12,
      "outputs": []
    },
    {
      "cell_type": "code",
      "source": [
        "!mkdir jsons  # Cria a pasta chamada \"jsons\""
      ],
      "metadata": {
        "id": "AqKokllHnZ8L"
      },
      "execution_count": 13,
      "outputs": []
    },
    {
      "cell_type": "code",
      "source": [
        "!apt update && apt-get install -y libgl1-mesa-glx"
      ],
      "metadata": {
        "colab": {
          "base_uri": "https://localhost:8080/"
        },
        "id": "F8jXqRhHSRju",
        "outputId": "ee5fd306-88b4-4e82-f023-9cf2fa60c391"
      },
      "execution_count": 14,
      "outputs": [
        {
          "output_type": "stream",
          "name": "stdout",
          "text": [
            "\u001b[33m\r0% [Working]\u001b[0m\r            \rHit:1 https://developer.download.nvidia.com/compute/cuda/repos/ubuntu2204/x86_64  InRelease\n",
            "Hit:2 https://cloud.r-project.org/bin/linux/ubuntu jammy-cran40/ InRelease\n",
            "Hit:3 http://archive.ubuntu.com/ubuntu jammy InRelease\n",
            "Hit:4 http://security.ubuntu.com/ubuntu jammy-security InRelease\n",
            "Hit:5 https://r2u.stat.illinois.edu/ubuntu jammy InRelease\n",
            "Hit:6 http://archive.ubuntu.com/ubuntu jammy-updates InRelease\n",
            "Hit:7 http://archive.ubuntu.com/ubuntu jammy-backports InRelease\n",
            "Hit:8 https://ppa.launchpadcontent.net/deadsnakes/ppa/ubuntu jammy InRelease\n",
            "Hit:9 https://ppa.launchpadcontent.net/graphics-drivers/ppa/ubuntu jammy InRelease\n",
            "Hit:10 https://ppa.launchpadcontent.net/ubuntugis/ppa/ubuntu jammy InRelease\n",
            "Reading package lists... Done\n",
            "Building dependency tree... Done\n",
            "Reading state information... Done\n",
            "52 packages can be upgraded. Run 'apt list --upgradable' to see them.\n",
            "\u001b[1;33mW: \u001b[0mSkipping acquire of configured file 'main/source/Sources' as repository 'https://r2u.stat.illinois.edu/ubuntu jammy InRelease' does not seem to provide it (sources.list entry misspelt?)\u001b[0m\n",
            "Reading package lists... Done\n",
            "Building dependency tree... Done\n",
            "Reading state information... Done\n",
            "libgl1-mesa-glx is already the newest version (23.0.4-0ubuntu1~22.04.1).\n",
            "0 upgraded, 0 newly installed, 0 to remove and 52 not upgraded.\n"
          ]
        }
      ]
    },
    {
      "cell_type": "code",
      "source": [
        "# Install the 'ultralytics' package\n",
        "!pip install ultralytics\n",
        "\n",
        "# Restart the kernel to make sure changes are applied\n",
        "# (Go to 'Runtime' -> 'Restart runtime' in Colab)\n",
        "\n",
        "# Now try importing it again\n",
        "from ultralytics import YOLO"
      ],
      "metadata": {
        "colab": {
          "base_uri": "https://localhost:8080/"
        },
        "id": "61mtcfljyWyE",
        "outputId": "a7bd7ff7-9506-4449-b7fd-c425706c8c8f"
      },
      "execution_count": 15,
      "outputs": [
        {
          "output_type": "stream",
          "name": "stdout",
          "text": [
            "Requirement already satisfied: ultralytics in /usr/local/lib/python3.10/dist-packages (8.3.58)\n",
            "Requirement already satisfied: numpy>=1.23.0 in /usr/local/lib/python3.10/dist-packages (from ultralytics) (1.26.4)\n",
            "Requirement already satisfied: matplotlib>=3.3.0 in /usr/local/lib/python3.10/dist-packages (from ultralytics) (3.8.0)\n",
            "Requirement already satisfied: opencv-python>=4.6.0 in /usr/local/lib/python3.10/dist-packages (from ultralytics) (4.10.0.84)\n",
            "Requirement already satisfied: pillow>=7.1.2 in /usr/local/lib/python3.10/dist-packages (from ultralytics) (11.0.0)\n",
            "Requirement already satisfied: pyyaml>=5.3.1 in /usr/local/lib/python3.10/dist-packages (from ultralytics) (6.0.2)\n",
            "Requirement already satisfied: requests>=2.23.0 in /usr/local/lib/python3.10/dist-packages (from ultralytics) (2.32.3)\n",
            "Requirement already satisfied: scipy>=1.4.1 in /usr/local/lib/python3.10/dist-packages (from ultralytics) (1.13.1)\n",
            "Requirement already satisfied: torch>=1.8.0 in /usr/local/lib/python3.10/dist-packages (from ultralytics) (2.5.1+cu121)\n",
            "Requirement already satisfied: torchvision>=0.9.0 in /usr/local/lib/python3.10/dist-packages (from ultralytics) (0.20.1+cu121)\n",
            "Requirement already satisfied: tqdm>=4.64.0 in /usr/local/lib/python3.10/dist-packages (from ultralytics) (4.67.1)\n",
            "Requirement already satisfied: psutil in /usr/local/lib/python3.10/dist-packages (from ultralytics) (5.9.5)\n",
            "Requirement already satisfied: py-cpuinfo in /usr/local/lib/python3.10/dist-packages (from ultralytics) (9.0.0)\n",
            "Requirement already satisfied: pandas>=1.1.4 in /usr/local/lib/python3.10/dist-packages (from ultralytics) (2.2.2)\n",
            "Requirement already satisfied: seaborn>=0.11.0 in /usr/local/lib/python3.10/dist-packages (from ultralytics) (0.13.2)\n",
            "Requirement already satisfied: ultralytics-thop>=2.0.0 in /usr/local/lib/python3.10/dist-packages (from ultralytics) (2.0.13)\n",
            "Requirement already satisfied: contourpy>=1.0.1 in /usr/local/lib/python3.10/dist-packages (from matplotlib>=3.3.0->ultralytics) (1.3.1)\n",
            "Requirement already satisfied: cycler>=0.10 in /usr/local/lib/python3.10/dist-packages (from matplotlib>=3.3.0->ultralytics) (0.12.1)\n",
            "Requirement already satisfied: fonttools>=4.22.0 in /usr/local/lib/python3.10/dist-packages (from matplotlib>=3.3.0->ultralytics) (4.55.3)\n",
            "Requirement already satisfied: kiwisolver>=1.0.1 in /usr/local/lib/python3.10/dist-packages (from matplotlib>=3.3.0->ultralytics) (1.4.7)\n",
            "Requirement already satisfied: packaging>=20.0 in /usr/local/lib/python3.10/dist-packages (from matplotlib>=3.3.0->ultralytics) (24.2)\n",
            "Requirement already satisfied: pyparsing>=2.3.1 in /usr/local/lib/python3.10/dist-packages (from matplotlib>=3.3.0->ultralytics) (3.2.0)\n",
            "Requirement already satisfied: python-dateutil>=2.7 in /usr/local/lib/python3.10/dist-packages (from matplotlib>=3.3.0->ultralytics) (2.8.2)\n",
            "Requirement already satisfied: pytz>=2020.1 in /usr/local/lib/python3.10/dist-packages (from pandas>=1.1.4->ultralytics) (2024.2)\n",
            "Requirement already satisfied: tzdata>=2022.7 in /usr/local/lib/python3.10/dist-packages (from pandas>=1.1.4->ultralytics) (2024.2)\n",
            "Requirement already satisfied: charset-normalizer<4,>=2 in /usr/local/lib/python3.10/dist-packages (from requests>=2.23.0->ultralytics) (3.4.0)\n",
            "Requirement already satisfied: idna<4,>=2.5 in /usr/local/lib/python3.10/dist-packages (from requests>=2.23.0->ultralytics) (3.10)\n",
            "Requirement already satisfied: urllib3<3,>=1.21.1 in /usr/local/lib/python3.10/dist-packages (from requests>=2.23.0->ultralytics) (2.2.3)\n",
            "Requirement already satisfied: certifi>=2017.4.17 in /usr/local/lib/python3.10/dist-packages (from requests>=2.23.0->ultralytics) (2024.12.14)\n",
            "Requirement already satisfied: filelock in /usr/local/lib/python3.10/dist-packages (from torch>=1.8.0->ultralytics) (3.16.1)\n",
            "Requirement already satisfied: typing-extensions>=4.8.0 in /usr/local/lib/python3.10/dist-packages (from torch>=1.8.0->ultralytics) (4.12.2)\n",
            "Requirement already satisfied: networkx in /usr/local/lib/python3.10/dist-packages (from torch>=1.8.0->ultralytics) (3.4.2)\n",
            "Requirement already satisfied: jinja2 in /usr/local/lib/python3.10/dist-packages (from torch>=1.8.0->ultralytics) (3.1.4)\n",
            "Requirement already satisfied: fsspec in /usr/local/lib/python3.10/dist-packages (from torch>=1.8.0->ultralytics) (2024.10.0)\n",
            "Requirement already satisfied: sympy==1.13.1 in /usr/local/lib/python3.10/dist-packages (from torch>=1.8.0->ultralytics) (1.13.1)\n",
            "Requirement already satisfied: mpmath<1.4,>=1.1.0 in /usr/local/lib/python3.10/dist-packages (from sympy==1.13.1->torch>=1.8.0->ultralytics) (1.3.0)\n",
            "Requirement already satisfied: six>=1.5 in /usr/local/lib/python3.10/dist-packages (from python-dateutil>=2.7->matplotlib>=3.3.0->ultralytics) (1.17.0)\n",
            "Requirement already satisfied: MarkupSafe>=2.0 in /usr/local/lib/python3.10/dist-packages (from jinja2->torch>=1.8.0->ultralytics) (3.0.2)\n",
            "Creating new Ultralytics Settings v0.0.6 file ✅ \n",
            "View Ultralytics Settings with 'yolo settings' or at '/root/.config/Ultralytics/settings.json'\n",
            "Update Settings with 'yolo settings key=value', i.e. 'yolo settings runs_dir=path/to/dir'. For help see https://docs.ultralytics.com/quickstart/#ultralytics-settings.\n"
          ]
        }
      ]
    },
    {
      "cell_type": "code",
      "source": [
        "# dataset.yaml\n",
        "\n",
        "# Create a string with the correct YAML content\n",
        "yaml_content = \"\"\"\n",
        "path: /content/dataset  # Path to the dataset\n",
        "train: images/train    # Path to training images\n",
        "val: images/val      # Path to validation images\n",
        "\n",
        "# Classes\n",
        "nc: 2                # Number of classes\n",
        "names: ['carro', 'pessoa']  # List of class names\n",
        "\"\"\"\n",
        "\n",
        "# Write the content to a file named 'dataset.yaml'\n",
        "with open('dataset.yaml', 'w') as f:\n",
        "    f.write(yaml_content)\n",
        "\n",
        "print(\"dataset.yaml file created successfully!\")"
      ],
      "metadata": {
        "colab": {
          "base_uri": "https://localhost:8080/"
        },
        "id": "RIkJL2vTLOXV",
        "outputId": "6bc58659-1b5d-485a-f997-295bf16e32cf"
      },
      "execution_count": 16,
      "outputs": [
        {
          "output_type": "stream",
          "name": "stdout",
          "text": [
            "dataset.yaml file created successfully!\n"
          ]
        }
      ]
    },
    {
      "cell_type": "code",
      "source": [
        "!python train.py --img <tamanho_da_imagem> --batch <tamanho_do_batch> --epochs <número_de_épocas> --data <caminho_para_o_arquivo_yaml> --weights <pesos_pré_treinados>"
      ],
      "metadata": {
        "colab": {
          "base_uri": "https://localhost:8080/"
        },
        "id": "2dmMr-myN8fu",
        "outputId": "438c4b14-55ec-4f25-c165-ab7b2e956b7c"
      },
      "execution_count": 17,
      "outputs": [
        {
          "output_type": "stream",
          "name": "stdout",
          "text": [
            "/bin/bash: -c: line 1: syntax error near unexpected token `newline'\n",
            "/bin/bash: -c: line 1: `python train.py --img <tamanho_da_imagem> --batch <tamanho_do_batch> --epochs <número_de_épocas> --data <caminho_para_o_arquivo_yaml> --weights <pesos_pré_treinados>'\n"
          ]
        }
      ]
    },
    {
      "cell_type": "code",
      "source": [
        "!python train.py --img 640 --batch 16 --epochs 100 --data data/coco.yaml --weights yolov7.pt"
      ],
      "metadata": {
        "colab": {
          "base_uri": "https://localhost:8080/"
        },
        "id": "Bl1fb9F6OJZh",
        "outputId": "d139ee9c-7e25-46a5-dfa1-43abee15ca0e"
      },
      "execution_count": 18,
      "outputs": [
        {
          "output_type": "stream",
          "name": "stdout",
          "text": [
            "python3: can't open file '/content/yolov8_novo/yolov8_novo/train.py': [Errno 2] No such file or directory\n"
          ]
        }
      ]
    },
    {
      "cell_type": "code",
      "source": [
        "!pip install opencv-python"
      ],
      "metadata": {
        "id": "JXQWQ2ilFyvQ",
        "outputId": "9f0698cd-3576-407b-c6b1-e994326d5d6d",
        "colab": {
          "base_uri": "https://localhost:8080/"
        }
      },
      "execution_count": 27,
      "outputs": [
        {
          "output_type": "stream",
          "name": "stdout",
          "text": [
            "Requirement already satisfied: opencv-python in /usr/local/lib/python3.10/dist-packages (4.10.0.84)\n",
            "Requirement already satisfied: numpy>=1.21.2 in /usr/local/lib/python3.10/dist-packages (from opencv-python) (1.26.4)\n"
          ]
        }
      ]
    },
    {
      "cell_type": "code",
      "source": [
        "import torch\n",
        "\n",
        "# Verificando se a GPU está disponível\n",
        "print(torch.cuda.is_available())\n",
        "\n",
        "HOMEIMAGES = 'http://people.csail.mit.edu/brussell/research/LabelMe/Images'\n",
        "HOMEANNOTATIONS = 'http://people.csail.mit.edu/brussell/research/LabelMe/Annotations'\n",
        "\n",
        "# Define a dummy variable for IMAGENSINAIS\n",
        "IMAGENSINAIS = \"dummy_value\"\n",
        "\n",
        "# Define a dummy variable for D\n",
        "D = \"dummy_value\"\n",
        "\n",
        "# Assuming LMdatabase, LMPlot, and LMread are defined elsewhere - they are not, so we are going to comment them out\n",
        "# D = LMdatabase(HOMEANNOTATIONS)  % This will create an index, which will take a few minutes.\n",
        "# % Now you can visualize the images\n",
        "# LMPlot(D, 1, IMAGENSINAIS);\n",
        "\n",
        "# % Or read an image\n",
        "# [annotation, img] = LMread(D, 1, HOMEIMAGES)\n",
        "\n",
        "# The following lines were causing the error because LMPlot and LMread are not defined\n",
        "# LMPlot(D, 1, IMAGENSINAIS);\n",
        "\n",
        "# % Ou leia uma imagem #Remove the magic command as it is just a comment\n",
        "# [anotação, img] = LMread(D, 1, HOMEIMAGES); #The comment was left in portuguese"
      ],
      "metadata": {
        "id": "8rvrUxYW8Wyb",
        "outputId": "e3617c94-0da2-48a1-c30a-045cc945b0e7",
        "colab": {
          "base_uri": "https://localhost:8080/"
        }
      },
      "execution_count": 19,
      "outputs": [
        {
          "output_type": "stream",
          "name": "stdout",
          "text": [
            "True\n"
          ]
        }
      ]
    },
    {
      "cell_type": "code",
      "source": [
        "# %%\n",
        "# ipython-input-28-965fc72078e7\n",
        "# Este bloco de código parece ser uma mistura de comentários em Português e código MATLAB/pseudo-código.\n",
        "# Portanto, para evitar erros, vamos comentar todo este bloco.\n",
        "#\n",
        "# # Primeiro crie a lista de imagens que você deseja:\n",
        "# # [Q,j] = LMquery(D, 'objeto.nome', 'carro');\n",
        "# # limpar lista de pastas lista de arquivos\n",
        "# # para i = 1:comprimento(Q);\n",
        "# #       listadepastas{i} = Q(i).anotação.pasta;\n",
        "# #       lista de arquivos{i} = Q(i).anotação.nome do arquivo;\n",
        "# # fim\n",
        "#\n",
        "# # Instale as imagens selecionadas:\n",
        "# # HOMEIMAGES = '/caminho/desejado/para/Imagens';\n",
        "# # HOMEANNOTATIONS = '/caminho/desejado/para/Anotações';\n",
        "# # LMinstall (lista de pastas, lista de arquivos, HOMEIMAGES, HOMEANNOTATIONS);\n",
        "# # This code appears to be MATLAB code and not Python.  No changes are needed to fix Python syntax errors, as there are none.\n",
        "#       file list{i} = Q(i).annotation.filename.nome;\n",
        "# fim\n",
        "#\n",
        "# % Instale as imagens selecionadas:\n",
        "# HOMEIMAGES = '/caminho/desejado/para/Imagens';\n",
        "# HOMEANNOTATIONS = '/caminho/desejado/para/Anotações';\n",
        "# LMinstall (lista de pastas, lista de arquivos, HOMEIMAGES, HOMEANNOTATIONS);"
      ],
      "metadata": {
        "id": "Qpk2IdEz9HWP"
      },
      "execution_count": 20,
      "outputs": []
    },
    {
      "cell_type": "code",
      "source": [
        "import pandas as pd # Para trabalhar com DataFrames e salvar em CSV\n",
        "from google.colab import files # Para baixar o arquivo CSV\n",
        "from ultralytics import YOLO"
      ],
      "metadata": {
        "id": "_fOHyIZtDm0C"
      },
      "execution_count": 21,
      "outputs": []
    },
    {
      "cell_type": "code",
      "source": [
        "from google.colab import drive\n",
        "drive.mount('/content/drive')"
      ],
      "metadata": {
        "id": "Z0xsZ9EqEwz9",
        "outputId": "bd423bfa-e64b-4dcd-db61-92c7ff80a4e2",
        "colab": {
          "base_uri": "https://localhost:8080/"
        }
      },
      "execution_count": 23,
      "outputs": [
        {
          "output_type": "stream",
          "name": "stdout",
          "text": [
            "Drive already mounted at /content/drive; to attempt to forcibly remount, call drive.mount(\"/content/drive\", force_remount=True).\n"
          ]
        }
      ]
    },
    {
      "cell_type": "code",
      "source": [
        "caminhos_imagens = [\n",
        "    '/content/drive/My Drive/dataset_caes_gatos/imagem1.jpg',\n",
        "]"
      ],
      "metadata": {
        "id": "f80HdU_FE5vm"
      },
      "execution_count": 24,
      "outputs": []
    },
    {
      "cell_type": "code",
      "source": [
        "# Carrega um modelo pré-treinado (exemplo: yolov8n.pt)\n",
        "model = YOLO('yolov8n.pt')  # baixa automaticamente se não existir\n",
        "\n",
        "# Se você treinou um modelo personalizado:\n",
        "# model = YOLO('/caminho/para/seu/modelo/best.pt') # ajuste o caminho"
      ],
      "metadata": {
        "id": "9FXpRdqoDraL",
        "outputId": "165e0a52-5e3e-4d31-9c1b-23636e2a9ced",
        "colab": {
          "base_uri": "https://localhost:8080/"
        }
      },
      "execution_count": 22,
      "outputs": [
        {
          "output_type": "stream",
          "name": "stdout",
          "text": [
            "Downloading https://github.com/ultralytics/assets/releases/download/v8.3.0/yolov8n.pt to 'yolov8n.pt'...\n"
          ]
        },
        {
          "output_type": "stream",
          "name": "stderr",
          "text": [
            "100%|██████████| 6.25M/6.25M [00:00<00:00, 114MB/s]\n"
          ]
        }
      ]
    },
    {
      "cell_type": "code",
      "source": [
        "def detectar_e_salvar(caminho_imagem):\n",
        "    try:\n",
        "        results = model(caminho_imagem)  # Executa a detecção na imagem\n",
        "\n",
        "        data = []\n",
        "        for result in results:\n",
        "            boxes = result.boxes  # Obtém as caixas delimitadoras\n",
        "            for box in boxes:\n",
        "                xyxy = box.xyxy[0].tolist() # Converte para lista [x_min, y_min, x_max, y_max]\n",
        "                conf = box.conf[0].item()  # Confiança da detecção\n",
        "                cls = int(box.cls[0].item())  # Classe do objeto detectado (índice)\n",
        "                nome_classe = model.names[cls] # Nome da classe\n",
        "                data.append([caminho_imagem, nome_classe, xyxy[0], xyxy[1], xyxy[2], xyxy[3], conf]) # Adiciona os dados à lista\n",
        "\n",
        "        return pd.DataFrame(data, columns=['Nome do Arquivo', 'Classe', 'x_min', 'y_min', 'x_max', 'y_max', 'Confiança'])\n",
        "    except Exception as e:\n",
        "        print(f\"Erro ao processar {caminho_imagem}: {e}\")\n",
        "        return pd.DataFrame() # Retorna um DataFrame vazio em caso de erro\n",
        "\n",
        "# Lista de caminhos para suas imagens (ajuste conforme necessário)\n",
        "caminhos_imagens = ['imagem1.jpg', 'imagem2.jpg'] # faça o upload das imagens para o colab\n",
        "\n",
        "# ou se estiverem no drive:\n",
        "# from google.colab import drive\n",
        "# drive.mount('/content/drive')\n",
        "# caminhos_imagens = ['/content/drive/My Drive/pasta_das_imagens/imagem1.jpg', '/content/drive/My Drive/pasta_das_imagens/imagem2.jpg']\n",
        "\n",
        "# Cria um DataFrame vazio para armazenar todos os resultados\n",
        "df_resultados = pd.DataFrame()\n",
        "\n",
        "# Itera sobre as imagens e concatena os resultados no DataFrame\n",
        "for caminho_imagem in caminhos_imagens:\n",
        "  df_temp = detectar_e_salvar(caminho_imagem)\n",
        "  df_resultados = pd.concat([df_resultados, df_temp], ignore_index=True)\n",
        "\n",
        "# Salva o DataFrame em um arquivo CSV\n",
        "df_resultados.to_csv('resultados_yolov8.csv', index=False)\n",
        "files.download('resultados_yolov8.csv') # Baixa o arquivo CSV\n",
        "print(\"Resultados salvos em resultados_yolov8.csv\")"
      ],
      "metadata": {
        "id": "u4X5cWOaFMiZ",
        "outputId": "cd605bf8-4385-431a-f79e-e38525afd4c4",
        "colab": {
          "base_uri": "https://localhost:8080/",
          "height": 104
        }
      },
      "execution_count": 25,
      "outputs": [
        {
          "output_type": "stream",
          "name": "stdout",
          "text": [
            "\n",
            "Erro ao processar imagem1.jpg: imagem1.jpg does not exist\n",
            "\n",
            "Erro ao processar imagem2.jpg: imagem2.jpg does not exist\n"
          ]
        },
        {
          "output_type": "display_data",
          "data": {
            "text/plain": [
              "<IPython.core.display.Javascript object>"
            ],
            "application/javascript": [
              "\n",
              "    async function download(id, filename, size) {\n",
              "      if (!google.colab.kernel.accessAllowed) {\n",
              "        return;\n",
              "      }\n",
              "      const div = document.createElement('div');\n",
              "      const label = document.createElement('label');\n",
              "      label.textContent = `Downloading \"${filename}\": `;\n",
              "      div.appendChild(label);\n",
              "      const progress = document.createElement('progress');\n",
              "      progress.max = size;\n",
              "      div.appendChild(progress);\n",
              "      document.body.appendChild(div);\n",
              "\n",
              "      const buffers = [];\n",
              "      let downloaded = 0;\n",
              "\n",
              "      const channel = await google.colab.kernel.comms.open(id);\n",
              "      // Send a message to notify the kernel that we're ready.\n",
              "      channel.send({})\n",
              "\n",
              "      for await (const message of channel.messages) {\n",
              "        // Send a message to notify the kernel that we're ready.\n",
              "        channel.send({})\n",
              "        if (message.buffers) {\n",
              "          for (const buffer of message.buffers) {\n",
              "            buffers.push(buffer);\n",
              "            downloaded += buffer.byteLength;\n",
              "            progress.value = downloaded;\n",
              "          }\n",
              "        }\n",
              "      }\n",
              "      const blob = new Blob(buffers, {type: 'application/binary'});\n",
              "      const a = document.createElement('a');\n",
              "      a.href = window.URL.createObjectURL(blob);\n",
              "      a.download = filename;\n",
              "      div.appendChild(a);\n",
              "      a.click();\n",
              "      div.remove();\n",
              "    }\n",
              "  "
            ]
          },
          "metadata": {}
        },
        {
          "output_type": "display_data",
          "data": {
            "text/plain": [
              "<IPython.core.display.Javascript object>"
            ],
            "application/javascript": [
              "download(\"download_0ee9f95d-8ad7-4985-858f-aa1f31a252ad\", \"resultados_yolov8.csv\", 1)"
            ]
          },
          "metadata": {}
        },
        {
          "output_type": "stream",
          "name": "stdout",
          "text": [
            "Resultados salvos em resultados_yolov8.csv\n"
          ]
        }
      ]
    }
  ]
}